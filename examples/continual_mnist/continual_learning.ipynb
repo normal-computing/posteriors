{
  "cells": [
    {
      "cell_type": "code",
      "execution_count": 2,
      "metadata": {},
      "outputs": [],
      "source": [
        "import torch\n",
        "import torch.nn as nn\n",
        "import torch.nn.functional as F\n",
        "import numpy as np\n",
        "from tqdm import tqdm\n",
        "import matplotlib.pyplot as plt"
      ]
    },
    {
      "cell_type": "markdown",
      "metadata": {
        "id": "rv89m9nBPXSh"
      },
      "source": [
        "# MNIST: Digits recognition with PyTorch \n",
        "\n",
        "All right, let's start then making sure we all know the basics! Let's recognize the ten handwritten digits learning from 60.000, 28x28 grayscale images.\n",
        "For simplicity let's import a loading script we have already developed inside the **Continual AI Colab** repository:"
      ]
    },
    {
      "cell_type": "code",
      "execution_count": 3,
      "metadata": {
        "colab": {
          "base_uri": "https://localhost:8080/"
        },
        "id": "x3BFVukM_y8i",
        "outputId": "e3c9a181-6cbd-44e1-d681-beb090625e31"
      },
      "outputs": [
        {
          "name": "stdout",
          "output_type": "stream",
          "text": [
            "Files already downloaded!\n"
          ]
        }
      ],
      "source": [
        "from modules.data.mnist import init, load\n",
        "init()"
      ]
    },
    {
      "cell_type": "code",
      "execution_count": 4,
      "metadata": {
        "colab": {
          "base_uri": "https://localhost:8080/"
        },
        "id": "6jIk6-G6AhWi",
        "outputId": "f6114ff9-6bd6-4c01-b4fb-7f164dc6a5de"
      },
      "outputs": [
        {
          "name": "stdout",
          "output_type": "stream",
          "text": [
            "x_train dim and type:  (60000, 1, 28, 28) float32\n",
            "t_train dim and type:  (60000,) uint8\n",
            "x_test dim and type:  (10000, 1, 28, 28) float32\n",
            "t_test dim and type:  (10000,) uint8\n"
          ]
        }
      ],
      "source": [
        "x_train, t_train, x_test, t_test = load()\n",
        "\n",
        "print(\"x_train dim and type: \", x_train.shape, x_train.dtype)\n",
        "print(\"t_train dim and type: \", t_train.shape, t_train.dtype)\n",
        "print(\"x_test dim and type: \", x_test.shape, x_test.dtype)\n",
        "print(\"t_test dim and type: \", t_test.shape, t_test.dtype)"
      ]
    },
    {
      "cell_type": "code",
      "execution_count": 5,
      "metadata": {},
      "outputs": [
        {
          "name": "stderr",
          "output_type": "stream",
          "text": [
            "60000it [00:00, 556939.75it/s]\n",
            "10000it [00:00, 444585.02it/s]\n"
          ]
        }
      ],
      "source": [
        "def episode_splits(train, test):\n",
        "    splits = {label: [] for label in np.unique(test)}\n",
        "    for img, label in tqdm(zip(train, test)):\n",
        "        splits[label].append(img)\n",
        "    return splits\n",
        "\n",
        "train_set = episode_splits(x_train, t_train)\n",
        "test_set = episode_splits(x_test, t_test)"
      ]
    },
    {
      "cell_type": "markdown",
      "metadata": {
        "id": "XEWG2PmbVvb7"
      },
      "source": [
        "Let's take a look at the actual images!"
      ]
    },
    {
      "cell_type": "code",
      "execution_count": 6,
      "metadata": {
        "colab": {
          "base_uri": "https://localhost:8080/",
          "height": 248
        },
        "id": "RyIuYAw8AuO6",
        "outputId": "07106299-84cf-4cef-b9ba-802d370a6fe9"
      },
      "outputs": [
        {
          "data": {
            "image/png": "[encoded data removed]",
            "text/plain": [
              "<Figure size 640x480 with 4 Axes>"
            ]
          },
          "metadata": {},
          "output_type": "display_data"
        }
      ],
      "source": [
        "f, axarr = plt.subplots(2,2)\n",
        "axarr[0,0].imshow(train_set[0][0][0], cmap=\"gray\")\n",
        "axarr[0,1].imshow(train_set[1][0][0], cmap=\"gray\")\n",
        "axarr[1,0].imshow(train_set[3][0][0], cmap=\"gray\")\n",
        "axarr[1,1].imshow(train_set[4][0][0], cmap=\"gray\")\n",
        "np.vectorize(lambda ax:ax.axis('off'))(axarr);"
      ]
    },
    {
      "cell_type": "markdown",
      "metadata": {
        "id": "baEsU4PGXsgS"
      },
      "source": [
        "Good! Let's now set up a few general setting before using torch..."
      ]
    },
    {
      "cell_type": "code",
      "execution_count": 7,
      "metadata": {
        "id": "ztZAPQNXZ4ll"
      },
      "outputs": [],
      "source": [
        "device = torch.device(\"cuda\" if torch.cuda.is_available() else \"cpu\")\n",
        "torch.manual_seed(1);"
      ]
    },
    {
      "cell_type": "markdown",
      "metadata": {
        "id": "0Ek0mErIac6n"
      },
      "source": [
        "... and define our first conv-net! We will use 3 layers of convolutions and two fully connected layers:"
      ]
    },
    {
      "cell_type": "code",
      "execution_count": 8,
      "metadata": {
        "id": "ONMdybG4Be0z"
      },
      "outputs": [],
      "source": [
        "class Net(nn.Module):\n",
        "    def __init__(self):\n",
        "        super(Net, self).__init__()\n",
        "        self.conv1 = nn.Conv2d(1, 5, kernel_size=3)\n",
        "        self.conv2 = nn.Conv2d(5, 10, kernel_size=3)\n",
        "        self.fc1 = nn.Linear(250, 10)\n",
        "\n",
        "    def forward(self, x):\n",
        "        x = F.relu(F.max_pool2d(self.conv1(x), 2))\n",
        "        x = F.relu(F.max_pool2d(self.conv2(x), 2))\n",
        "        x = x.view(-1, 250)\n",
        "        x = self.fc1(x)\n",
        "        return x"
      ]
    },
    {
      "cell_type": "code",
      "execution_count": 9,
      "metadata": {},
      "outputs": [
        {
          "name": "stdout",
          "output_type": "stream",
          "text": [
            "Num params: 3020\n"
          ]
        }
      ],
      "source": [
        "import posteriors\n",
        "import torchopt\n",
        "from torch import func\n",
        "\n",
        "model = Net().to(device)\n",
        "\n",
        "print(\"Num params:\", sum([p.numel() for p in model.parameters()]))\n",
        "\n",
        "def log_posterior(num_data):\n",
        "    def fn_call(params, batch):\n",
        "        images, labels = batch\n",
        "        output = func.functional_call(model, params, images)\n",
        "        log_post_val = (\n",
        "            -F.cross_entropy(output, labels)\n",
        "            +  posteriors.diag_normal_log_prob(params) / num_data\n",
        "        )\n",
        "        return log_post_val, output\n",
        "    return fn_call"
      ]
    },
    {
      "cell_type": "code",
      "execution_count": 10,
      "metadata": {},
      "outputs": [
        {
          "name": "stderr",
          "output_type": "stream",
          "text": [
            "100%|██████████| 10/10 [00:37<00:00,  3.77s/it]\n"
          ]
        }
      ],
      "source": [
        "def train_for_episode(params, optimizer, data, label, epochs=5, batch_size=100):\n",
        "    state = optimizer.init(params)\n",
        "\n",
        "    for _ in range(epochs):\n",
        "        for i in range(0, len(data), batch_size):\n",
        "            x = torch.stack([torch.from_numpy(p) for p in data[i:i+batch_size]])\n",
        "            y = torch.ones((x.size(0),), dtype=torch.long) * label            \n",
        "            state = optimizer.update(state, (x.to(device), y.to(device)), inplace=False)\n",
        "\n",
        "    return state\n",
        "\n",
        "@torch.inference_mode\n",
        "def test_for_episode(params, data, label, batch_size=100):\n",
        "    num_correct = 0\n",
        "    for i in range(0, len(data), batch_size):\n",
        "        x = torch.stack([torch.from_numpy(p) for p in data[i:i+batch_size]])\n",
        "        outputs = func.functional_call(model, params, x.to(device))\n",
        "        outputs = outputs.argmax(-1)\n",
        "        num_correct += len(torch.where(outputs == label)[0])\n",
        "\n",
        "    return num_correct / len(data)\n",
        "\n",
        "episodes = list(train_set.keys())\n",
        "test_metrics = []\n",
        "params = dict(model.named_parameters())\n",
        "\n",
        "for episode in tqdm(episodes): \n",
        "    label = episode\n",
        "    episode_train_data = train_set[episode]\n",
        "    optimizer = posteriors.torchopt.build(log_posterior(len(episode_train_data)), torchopt.adam(lr=1e-3, maximize=True))\n",
        "    state = train_for_episode(params, optimizer, episode_train_data, label, epochs=1, batch_size=10)\n",
        "    params = state.params\n",
        "\n",
        "    step_i_test_metrics = {}\n",
        "    for prev_episodes in episodes:\n",
        "        episode_test_data = test_set[prev_episodes]\n",
        "        accuracy = test_for_episode(params, episode_test_data, prev_episodes, batch_size=10)\n",
        "        step_i_test_metrics[prev_episodes] = accuracy\n",
        "\n",
        "    test_metrics.append(step_i_test_metrics)"
      ]
    },
    {
      "cell_type": "code",
      "execution_count": 11,
      "metadata": {},
      "outputs": [
        {
          "name": "stdout",
          "output_type": "stream",
          "text": [
            "Episode 0: {0: 1.0, 1: 0.0, 2: 0.0, 3: 0.0, 4: 0.0, 5: 0.0, 6: 0.0, 7: 0.0, 8: 0.0, 9: 0.0}\n",
            "Episode 1: {0: 0.0, 1: 1.0, 2: 0.0, 3: 0.0, 4: 0.0, 5: 0.0, 6: 0.0, 7: 0.0, 8: 0.0, 9: 0.0}\n",
            "Episode 2: {0: 0.0, 1: 0.0, 2: 1.0, 3: 0.0, 4: 0.0, 5: 0.0, 6: 0.0, 7: 0.0, 8: 0.0, 9: 0.0}\n",
            "Episode 3: {0: 0.0, 1: 0.0, 2: 0.0, 3: 1.0, 4: 0.0, 5: 0.0, 6: 0.0, 7: 0.0, 8: 0.0, 9: 0.0}\n",
            "Episode 4: {0: 0.0, 1: 0.0, 2: 0.0, 3: 0.0, 4: 1.0, 5: 0.0, 6: 0.0, 7: 0.0, 8: 0.0, 9: 0.0}\n",
            "Episode 5: {0: 0.0, 1: 0.0, 2: 0.0, 3: 0.0, 4: 0.0, 5: 1.0, 6: 0.0, 7: 0.0, 8: 0.0, 9: 0.0}\n",
            "Episode 6: {0: 0.0, 1: 0.0, 2: 0.0, 3: 0.0, 4: 0.0, 5: 0.0, 6: 1.0, 7: 0.0, 8: 0.0, 9: 0.0}\n",
            "Episode 7: {0: 0.0, 1: 0.0, 2: 0.0, 3: 0.0, 4: 0.0, 5: 0.0, 6: 0.0, 7: 1.0, 8: 0.0, 9: 0.0}\n",
            "Episode 8: {0: 0.0, 1: 0.0, 2: 0.0, 3: 0.0, 4: 0.0, 5: 0.0, 6: 0.0, 7: 0.0, 8: 1.0, 9: 0.0}\n",
            "Episode 9: {0: 0.0, 1: 0.0, 2: 0.0, 3: 0.0, 4: 0.0, 5: 0.0, 6: 0.0, 7: 0.0, 8: 0.0, 9: 1.0}\n"
          ]
        }
      ],
      "source": [
        "for i, metrics in enumerate(test_metrics):\n",
        "    print(f\"Episode {i}: {metrics}\")"
      ]
    },
    {
      "cell_type": "code",
      "execution_count": null,
      "metadata": {},
      "outputs": [],
      "source": []
    }
  ],
  "metadata": {
    "accelerator": "GPU",
    "colab": {
      "collapsed_sections": [],
      "name": "permuted_and_split_mnist.ipynb",
      "provenance": [],
      "toc_visible": true
    },
    "kernelspec": {
      "display_name": "Python 3",
      "language": "python",
      "name": "python3"
    },
    "language_info": {
      "codemirror_mode": {
        "name": "ipython",
        "version": 3
      },
      "file_extension": ".py",
      "mimetype": "text/x-python",
      "name": "python",
      "nbconvert_exporter": "python",
      "pygments_lexer": "ipython3",
      "version": "3.11.9"
    }
  },
  "nbformat": 4,
  "nbformat_minor": 0
}
