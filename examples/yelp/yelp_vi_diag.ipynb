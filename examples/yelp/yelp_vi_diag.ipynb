{
 "cells": [
  {
   "cell_type": "code",
   "execution_count": 1,
   "metadata": {},
   "outputs": [],
   "source": [
    "import torch\n",
    "from torchopt import adamw\n",
    "from tqdm.auto import tqdm\n",
    "from optree import tree_map, tree_map_\n",
    "import pickle\n",
    "import matplotlib.pyplot as plt\n",
    "\n",
    "import uqlib\n",
    "\n",
    "from load import load_dataloaders, load_model"
   ]
  },
  {
   "cell_type": "code",
   "execution_count": 2,
   "metadata": {},
   "outputs": [
    {
     "data": {
      "application/vnd.jupyter.widget-view+json": {
       "model_id": "fd8639d7d9ab4970acae1eb918613c4b",
       "version_major": 2,
       "version_minor": 0
      },
      "text/plain": [
       "Map:   0%|          | 0/50000 [00:00<?, ? examples/s]"
      ]
     },
     "metadata": {},
     "output_type": "display_data"
    }
   ],
   "source": [
    "# Load data\n",
    "train_dataloader, eval_dataloader = load_dataloaders(small=True)\n",
    "num_data = len(train_dataloader.dataset)"
   ]
  },
  {
   "cell_type": "code",
   "execution_count": 3,
   "metadata": {},
   "outputs": [
    {
     "name": "stderr",
     "output_type": "stream",
     "text": [
      "Some weights of BertForSequenceClassification were not initialized from the model checkpoint at bert-base-cased and are newly initialized: ['classifier.bias', 'classifier.weight']\n",
      "You should probably TRAIN this model on a down-stream task to be able to use it for predictions and inference.\n"
     ]
    }
   ],
   "source": [
    "# Load model (with standard Gaussian prior)\n",
    "model, param_to_log_posterior = load_model(num_data=num_data)"
   ]
  },
  {
   "cell_type": "code",
   "execution_count": 4,
   "metadata": {},
   "outputs": [],
   "source": [
    "# Turn off Dropout\n",
    "model.eval()\n",
    "\n",
    "# Move to GPU if available\n",
    "device = torch.device(\"cuda\") if torch.cuda.is_available() else torch.device(\"cpu\")\n",
    "model.to(device);"
   ]
  },
  {
   "cell_type": "code",
   "execution_count": 5,
   "metadata": {},
   "outputs": [],
   "source": [
    "# Initiate variational parameters\n",
    "init_mean = dict(model.named_parameters())\n",
    "init_log_sds = tree_map(\n",
    "    lambda x: (torch.zeros_like(x) - 2.0).requires_grad_(True), init_mean\n",
    ")"
   ]
  },
  {
   "cell_type": "code",
   "execution_count": 6,
   "metadata": {},
   "outputs": [],
   "source": [
    "# Optimization setup\n",
    "num_epochs = 5\n",
    "num_training_steps = num_epochs * len(train_dataloader)\n",
    "\n",
    "optimizer = adamw(lr=5e-2)\n",
    "# optimizer = adamw(lr=lambda i: 1e-1 * (1 - i / num_training_steps))"
   ]
  },
  {
   "cell_type": "code",
   "execution_count": 7,
   "metadata": {},
   "outputs": [
    {
     "data": {
      "application/vnd.jupyter.widget-view+json": {
       "model_id": "6df1576f59ee4999a69b2779484c6837",
       "version_major": 2,
       "version_minor": 0
      },
      "text/plain": [
       "  0%|          | 0/625 [00:00<?, ?it/s]"
      ]
     },
     "metadata": {},
     "output_type": "display_data"
    },
    {
     "name": "stdout",
     "output_type": "stream",
     "text": [
      "-378333632.0\r"
     ]
    }
   ],
   "source": [
    "# Optimize\n",
    "vi_state = uqlib.vi.diag.init(init_mean, optimizer=optimizer, init_log_sds=init_log_sds)\n",
    "\n",
    "progress_bar = tqdm(range(num_training_steps))\n",
    "\n",
    "nelbos = []\n",
    "\n",
    "for epoch in range(num_epochs):\n",
    "    for batch in train_dataloader:\n",
    "        batch = {k: v.to(device) for k, v in batch.items()}\n",
    "        vi_state = uqlib.vi.diag.update(\n",
    "            vi_state, param_to_log_posterior, batch, optimizer, 1\n",
    "        )\n",
    "        print(vi_state.nelbo, end=\"\\r\")\n",
    "        nelbos.append(vi_state.nelbo)\n",
    "        progress_bar.update(1)"
   ]
  },
  {
   "cell_type": "code",
   "execution_count": 8,
   "metadata": {},
   "outputs": [
    {
     "data": {
      "image/png": "[encoded data removed]",
      "text/plain": [
       "<Figure size 640x480 with 1 Axes>"
      ]
     },
     "metadata": {},
     "output_type": "display_data"
    }
   ],
   "source": [
    "plt.plot(nelbos);"
   ]
  },
  {
   "cell_type": "code",
   "execution_count": 11,
   "metadata": {},
   "outputs": [],
   "source": [
    "# Save state\n",
    "def detach(x):\n",
    "    if isinstance(x, torch.Tensor):\n",
    "        return x.detach().cpu()\n",
    "\n",
    "\n",
    "vi_state = tree_map_(detach, vi_state)\n",
    "pickle.dump(vi_state, open(\"yelp_vi_state.pkl\", \"wb\"))"
   ]
  },
  {
   "cell_type": "code",
   "execution_count": 10,
   "metadata": {},
   "outputs": [],
   "source": [
    "# Alternative implementation that updates mu and log_sigma directly without using the\n",
    "# uqlib init+update API\n",
    "\n",
    "# from torch.optim import AdamW\n",
    "# from transformers import get_scheduler\n",
    "\n",
    "\n",
    "# mu = dict(model.named_parameters())\n",
    "# log_sigma = tree_map(lambda x: torch.zeros_like(x, requires_grad=True), mu)\n",
    "\n",
    "# vi_params_tensors = list(mu.values()) + list(log_sigma.values())\n",
    "\n",
    "# vi_optimizer = AdamW(vi_params_tensors, lr=5e-5)\n",
    "# vi_lr_scheduler = get_scheduler(\n",
    "#     name=\"linear\",\n",
    "#     optimizer=vi_optimizer,\n",
    "#     num_warmup_steps=0,\n",
    "#     num_training_steps=num_training_steps,\n",
    "# )\n",
    "\n",
    "# progress_bar = tqdm(range(num_training_steps))\n",
    "\n",
    "# nelbos = []\n",
    "\n",
    "# # model.train()\n",
    "# for epoch in range(num_epochs):\n",
    "#     for batch in train_dataloader:\n",
    "#         batch = {k: v.to(device) for k, v in batch.items()}\n",
    "#         vi_optimizer.zero_grad()\n",
    "\n",
    "#         sigma = tree_map(torch.exp, log_sigma)\n",
    "\n",
    "#         nelbo = uqlib.vi.diag.nelbo(\n",
    "#             mu,\n",
    "#             sigma,\n",
    "#             param_to_log_posterior,\n",
    "#             batch,\n",
    "#         )\n",
    "\n",
    "#         nelbo.backward()\n",
    "#         nelbos.append(nelbo.item())\n",
    "\n",
    "#         vi_optimizer.step()\n",
    "#         vi_lr_scheduler.step()\n",
    "#         progress_bar.update(1)"
   ]
  }
 ],
 "metadata": {
  "kernelspec": {
   "display_name": "base",
   "language": "python",
   "name": "python3"
  },
  "language_info": {
   "codemirror_mode": {
    "name": "ipython",
    "version": 3
   },
   "file_extension": ".py",
   "mimetype": "text/x-python",
   "name": "python",
   "nbconvert_exporter": "python",
   "pygments_lexer": "ipython3",
   "version": "3.11.4"
  }
 },
 "nbformat": 4,
 "nbformat_minor": 2
}
