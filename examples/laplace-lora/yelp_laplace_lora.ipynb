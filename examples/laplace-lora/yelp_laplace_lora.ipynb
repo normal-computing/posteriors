{
 "cells": [
  {
   "cell_type": "markdown",
   "metadata": {},
   "source": [
    "Post-hoc Laplace approx to LoRA parameters at model checkpoints theta_MAP obtained from standard fine-tuning."
   ]
  },
  {
   "cell_type": "code",
   "execution_count": null,
   "metadata": {},
   "outputs": [],
   "source": [
    "import torch\n",
    "from tqdm.auto import tqdm\n",
    "from torch.optim import AdamW\n",
    "from transformers import get_scheduler\n",
    "from optree import tree_map_, tree_map\n",
    "import pickle\n",
    "import matplotlib.pyplot as plt\n",
    "\n",
    "import uqlib\n",
    "\n",
    "from load import load_dataloaders, load_model"
   ]
  },
  {
   "cell_type": "code",
   "execution_count": null,
   "metadata": {},
   "outputs": [],
   "source": [
    "# Load data\n",
    "train_dataloader, eval_dataloader = load_dataloaders(small=True, batch_size=32)\n",
    "num_data = len(train_dataloader.dataset)\n",
    "print(\"Training data size: \", num_data)"
   ]
  },
  {
   "cell_type": "code",
   "execution_count": null,
   "metadata": {},
   "outputs": [],
   "source": [
    "# Load model (with standard Gaussian prior)\n",
    "model, param_to_log_posterior, target_module_names = load_model(num_data=num_data, prior_sd=1e3, target_modules=\"last_layer\")\n",
    "\n",
    "# Turn off Dropout\n",
    "model.eval()\n",
    "\n",
    "# Load to GPU\n",
    "device = torch.device(\"cuda\") if torch.cuda.is_available() else torch.device(\"cpu\")\n",
    "model.to(device);"
   ]
  },
  {
   "cell_type": "code",
   "execution_count": null,
   "metadata": {},
   "outputs": [],
   "source": [
    "# Extract only the parameters to be trained\n",
    "sub_params, sub_param_to_log_posterior = uqlib.extract_requires_grad_and_func(dict(model.named_parameters()), param_to_log_posterior)"
   ]
  },
  {
   "cell_type": "code",
   "execution_count": null,
   "metadata": {},
   "outputs": [],
   "source": [
    "# Store initial values of sub_params to check against later\n",
    "init_sub_params = tree_map(lambda x: x.detach().clone(), sub_params)"
   ]
  },
  {
   "cell_type": "code",
   "execution_count": null,
   "metadata": {},
   "outputs": [],
   "source": [
    "# Train (as usual, using native PyTorch) for MAP\n",
    "optimizer = AdamW(sub_params.values(), lr=1e-5, maximize=True)\n",
    "\n",
    "num_epochs = 30\n",
    "num_training_steps = num_epochs * len(train_dataloader)\n",
    "lr_scheduler = get_scheduler(\n",
    "    name=\"linear\",\n",
    "    optimizer=optimizer,\n",
    "    num_warmup_steps=0,\n",
    "    num_training_steps=num_training_steps,\n",
    ")\n",
    "\n",
    "\n",
    "progress_bar = tqdm(range(num_training_steps))\n",
    "\n",
    "log_posts = []\n",
    "\n",
    "# model.train()\n",
    "for epoch in range(num_epochs):\n",
    "    for batch in train_dataloader:\n",
    "        batch = {k: v.to(device) for k, v in batch.items()}\n",
    "\n",
    "        log_post, out = sub_param_to_log_posterior(sub_params, batch)\n",
    "\n",
    "        log_post.backward()\n",
    "        log_posts.append(log_post.item())\n",
    "        \n",
    "        optimizer.step()\n",
    "        lr_scheduler.step()\n",
    "        optimizer.zero_grad()\n",
    "        progress_bar.update(1)\n",
    "        progress_bar.set_postfix(loss=log_posts[-1])"
   ]
  },
  {
   "cell_type": "code",
   "execution_count": null,
   "metadata": {},
   "outputs": [],
   "source": [
    "# Plot convergence\n",
    "plt.plot(log_posts);"
   ]
  },
  {
   "cell_type": "code",
   "execution_count": null,
   "metadata": {},
   "outputs": [],
   "source": [
    "# Visualize trained sub_params vs their initial values\n",
    "import regex as re\n",
    "final_sub_params = tree_map(lambda p: p.detach().clone(), dict(model.named_parameters()))\n",
    "\n",
    "base = ()\n",
    "final = ()\n",
    "for weights_matrix in target_module_names:\n",
    "    W = [v for k, v in final_sub_params.items() if re.sub(\"^(base_model.model.model\\\\.)*|(\\\\.base_layer.weight)*$\", \"\", k) == weights_matrix][0]\n",
    "    A = [v for k, v in final_sub_params.items() if re.sub(\"^(base_model.model.model\\\\.)*|(\\\\.lora_A.default.weight)*$\", \"\", k) == weights_matrix][0]\n",
    "    B = [v for k, v in final_sub_params.items() if re.sub(\"^(base_model.model.model\\\\.)*|(\\\\.lora_B.default.weight)*$\", \"\", k) == weights_matrix][0]\n",
    "    \n",
    "    W_del = B @ A \n",
    "    W_new = W + W_del\n",
    "\n",
    "    base += (W, )\n",
    "    final += (W_new,)\n",
    "\n",
    "base = torch.cat(base).flatten()\n",
    "final = torch.cat(final).flatten()\n",
    "\n",
    "plt.hist(base.cpu().numpy(), bins=100, alpha=0.5, label='Init', density=True)\n",
    "plt.hist(final.cpu().numpy(), bins=100, alpha=0.5, label='Final', density=True)\n",
    "plt.legend();"
   ]
  },
  {
   "cell_type": "code",
   "execution_count": null,
   "metadata": {},
   "outputs": [],
   "source": [
    "# Jacobian requires more memory, so we'll use a smaller batch size for the Laplace approximation\n",
    "laplace_train_dataloader, _ = load_dataloaders(small=True, batch_size=8)"
   ]
  },
  {
   "cell_type": "code",
   "execution_count": null,
   "metadata": {},
   "outputs": [],
   "source": [
    "# Use uqlib for diagonal Fisher information covariance matrix\n",
    "laplace_approx_transform = uqlib.laplace.diag_fisher.build(sub_param_to_log_posterior)\n",
    "laplace_state = laplace_approx_transform.init(sub_params)\n",
    "\n",
    "for batch in tqdm(laplace_train_dataloader):\n",
    "    batch = {k: v.to(device) for k, v in batch.items()}\n",
    "    laplace_state = laplace_approx_transform.update(\n",
    "        laplace_state, batch\n",
    "    )"
   ]
  },
  {
   "cell_type": "code",
   "execution_count": null,
   "metadata": {},
   "outputs": [],
   "source": [
    "# Save state\n",
    "laplace_state = tree_map_(lambda x: x.detach().cpu(), laplace_state)\n",
    "pickle.dump(laplace_state, open(\"guanaco_laplace_state.pkl\", \"wb\"))\n",
    "\n",
    "# laplace_state = pickle.load(open(\"guanaco_laplace_state.pkl\", \"rb\"))"
   ]
  },
  {
   "cell_type": "code",
   "execution_count": null,
   "metadata": {},
   "outputs": [],
   "source": [
    "# Visualize the standard deviations of the Laplace approximation\n",
    "prec_diag = torch.cat([v.detach().cpu().flatten() for v in laplace_state.prec_diag.values()]).numpy()\n",
    "sd_diag = prec_diag ** -0.5\n",
    "\n",
    "plt.hist(sd_diag, bins=100, density=True);"
   ]
  },
  {
   "cell_type": "code",
   "execution_count": null,
   "metadata": {},
   "outputs": [],
   "source": []
  }
 ],
 "metadata": {
  "kernelspec": {
   "display_name": "base",
   "language": "python",
   "name": "python3"
  },
  "language_info": {
   "codemirror_mode": {
    "name": "ipython",
    "version": 3
   },
   "file_extension": ".py",
   "mimetype": "text/x-python",
   "name": "python",
   "nbconvert_exporter": "python",
   "pygments_lexer": "ipython3",
   "version": "3.12.1"
  }
 },
 "nbformat": 4,
 "nbformat_minor": 2
}
